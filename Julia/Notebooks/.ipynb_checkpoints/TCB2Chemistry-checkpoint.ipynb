{
 "cells": [
  {
   "cell_type": "code",
   "execution_count": 1,
   "id": "8ce565ea-62db-4c38-b645-d4054109536b",
   "metadata": {},
   "outputs": [],
   "source": [
    "using Revise\n",
    "using GLMakie\n",
    "using JLD2\n",
    "using Gridap"
   ]
  },
  {
   "cell_type": "code",
   "execution_count": 2,
   "id": "79fc40ab-1ca0-4b62-8776-3708fd369f58",
   "metadata": {},
   "outputs": [
    {
     "data": {
      "text/plain": [
       "CreateGrid1D (generic function with 1 method)"
      ]
     },
     "execution_count": 2,
     "metadata": {},
     "output_type": "execute_result"
    }
   ],
   "source": [
    "function CoarsenSolution(uhPre, nCoarse, domain, elType) # for SingleFESolution\n",
    "    partition = (nCoarse, nCoarse)\n",
    "    TCoarse = CartesianDiscreteModel(domain,partition)\n",
    "    reffeCoarse = ReferenceFE(lagrangian, elType, 2)\n",
    "    VCoarse = FESpace(TCoarse, reffeCoarse)\n",
    "    iuh = Gridap.CellData.Interpolable(uhPre)\n",
    "    return interpolate_everywhere(iuh, VCoarse)\n",
    "end\n",
    "\n",
    "\n",
    "function CreateGrid(domain, nEvals)\n",
    "    xDomain = LinRange(domain[1], domain[2], nEvals+1)\n",
    "    yDomain = LinRange(domain[3], domain[4], nEvals+1)\n",
    "    pts = [Gridap.Point(x,y) for x in xDomain, y in yDomain]\n",
    "    return pts\n",
    "end\n",
    "\n",
    "function CreateGrid1D(domain, nEvals)\n",
    "    xDomain = LinRange(domain[1], domain[2], nEvals+1)\n",
    "    pts = [Gridap.Point(x) for x in xDomain]\n",
    "    return pts\n",
    "end"
   ]
  },
  {
   "cell_type": "code",
   "execution_count": 100,
   "id": "ac2e5e02-501f-4455-b71c-be693965bc9d",
   "metadata": {},
   "outputs": [
    {
     "name": "stdout",
     "output_type": "stream",
     "text": [
      "Loaded parameters.\n"
     ]
    }
   ],
   "source": [
    "### parameterization \n",
    "\n",
    "## mesh parameters\n",
    "L = 500.0\n",
    "n = 50\n",
    "order = 1\n",
    "\n",
    "\n",
    "## chemical parameters\n",
    "kAct = 5e1  # mM^-1 s^-1 activation rate of calcium\n",
    "kInact = 5e0  # s^-1 inactivation rate of calcium\n",
    "kTrap = 3e2  # mM^-1 s^-1 trapping rate of calcium by DMNP\n",
    "kRel = 7e2  # s^-1 release rate of calcium by DMNP when light is on\n",
    "kIBind =  1e-1  # mM^-1 s^-1 binding rate of inactivated TCB2\n",
    "kIUnbind = 1e0  # s^-1 unbinding rate of inactivated TCB2\n",
    "kABind = 1e-1  # mM^-1 s^-1 binding rate of activated TCB2\n",
    "kAUnbind = 0  # s^-1 unbinding rate of activated TCB2\n",
    "β = 0.9  # degradation factor\n",
    "CSat = 3  # mM, saturation concentration of bound TCB2\n",
    "\n",
    "DT = 1  # μm^2/s, diffusion constant for TCB2\n",
    "DD = 25  # μm^2/s, diffusion constant for DMNP\n",
    "DC = 500  # μm^2/s, diffusion constant for calcium\n",
    "\n",
    "CDI0 = 2.5  # mM\n",
    "CDA0 = 0  # mM\n",
    "CBI0 = 0.1  # mM\n",
    "CBA0 = 0  # mM\n",
    "CC0 = 0  # mM\n",
    "CDst0 = 20  # mM\n",
    "CD0 = 20 # mM\n",
    "\n",
    "## light protocol parameters\n",
    "protocol = \"p\"\n",
    "\n",
    "if protocol == \"p\"\n",
    "    lent = 1\n",
    "    cyct = 30\n",
    "else\n",
    "    lent = 5\n",
    "    cyct = 1000\n",
    "end\n",
    "\n",
    "width = 5  # μm, width of gaussian beam\n",
    "r0 = 75  # μm, radius of circle\n",
    "len = lent  # s\n",
    "cyc = cyct + len\n",
    "del = 0.25  # s\n",
    "\n",
    "println(\"Loaded parameters.\")"
   ]
  },
  {
   "cell_type": "code",
   "execution_count": 101,
   "id": "6c52620a-d8fc-43da-b849-0e27d8203e2c",
   "metadata": {},
   "outputs": [
    {
     "data": {
      "text/plain": [
       "RDstGam (generic function with 1 method)"
      ]
     },
     "execution_count": 101,
     "metadata": {},
     "output_type": "execute_result"
    }
   ],
   "source": [
    "### Define the necessary functions\n",
    "\n",
    "function BS(CB, CSat)\n",
    "    return CSat^2 / 4 - (CB - CSat / 2)^2\n",
    "end\n",
    "\n",
    "function gaussian(r, r0, s)\n",
    "    return exp(-0.5 * ((r - r0) / s)^2)\n",
    "end\n",
    "\n",
    "function spaceFunc(r, r0, s)\n",
    "    return 0.5 * (1 - tanh((r - r0) / s))\n",
    "end\n",
    "\n",
    "function rFunc(x, y, x0, y0)\n",
    "    return sqrt((x - x0)^2 + (y - y0)^2)\n",
    "end\n",
    "\n",
    "function sigmoid(x)\n",
    "    return 1 / (1 + exp(-x))\n",
    "end\n",
    "\n",
    "function smoothBump(x, a, xa, xb)\n",
    "    return sigmoid((x - xa) / a) - sigmoid((x - xb) / a)\n",
    "end\n",
    "\n",
    "function waveFunc(t, cyc, len, del)\n",
    "    s = 0.0\n",
    "    for i in 0:floor(tMax / cyc)\n",
    "        s += smoothBump(t, del, cyc * i, cyc * i + len)\n",
    "    end\n",
    "    return s\n",
    "end\n",
    "\n",
    "iFun(t) = waveFunc(t, cyc, len, del)\n",
    "\n",
    "function gamFunc(px, t)\n",
    "    return kRel * spaceFunc(rFunc(px[1], px[2], xMax / 2, yMax / 2), r0, width) * iFun(t)\n",
    "end\n",
    "\n",
    "function pA(CBA, CBI)\n",
    "    return CBA / (CBA + CBI)\n",
    "end\n",
    "\n",
    "function g(CBA, CBI)\n",
    "    return -(1 - gMin) * pA(CBA, CBI)\n",
    "end\n",
    "\n",
    "function RDI(CDI, CDA, CBI, CBA, CC, CD, CDst)\n",
    "    return -kAct * CDI * CC + kInact * CDA - kIBind * CDI * (CSat^2 / 4 - (CBA + CBI - CSat / 2) * (CBA + CBI - CSat / 2)) + kIUnbind * CBI\n",
    "end\n",
    "\n",
    "function RDA(CDI, CDA, CBI, CBA, CC, CD, CDst)\n",
    "    return kAct * CDI * CC - kInact * CDA - kABind * CDA * (CSat^2 / 4 - (CBA + CBI - CSat / 2) * (CBA + CBI - CSat / 2)) + kAUnbind * CBA\n",
    "end\n",
    "\n",
    "function RBI(CDI, CDA, CBI, CBA, CC, CD, CDst)\n",
    "    return -kAct * CBI * CC + kInact * CBA + kIBind * CDI * (CSat^2 / 4 - (CBA + CBI - CSat / 2) * (CBA + CBI - CSat / 2)) - kIUnbind * CBI\n",
    "end\n",
    "\n",
    "function RBA(CDI, CDA, CBI, CBA, CC, CD, CDst)\n",
    "    return kAct * CBI * CC - kInact * CBA + kABind * CDA * (CSat^2 / 4 - (CBA + CBI - CSat / 2) * (CBA + CBI - CSat / 2)) - kAUnbind * CBA\n",
    "end\n",
    "\n",
    "function RC(CDI, CDA, CBI, CBA, CC, CD, CDst)\n",
    "    return -kAct * (CDI + CBI) * CC + kInact * (CDA + CBA) - kTrap * CDst * CC \n",
    "end\n",
    "\n",
    "function RCGam(px, t, CDI, CDA, CBI, CBA, CC, CD, CDst)\n",
    "    return  gamFunc(px, t) * CD\n",
    "end\n",
    "\n",
    "function RD(CDI, CDA, CBI, CBA, CC, CD, CDst)\n",
    "    return kTrap * CDst * CC \n",
    "end\n",
    "\n",
    "function RDGam(px, t, CDI, CDA, CBI, CBA, CC, CD, CDst)\n",
    "    return - gamFunc(px, t) * CD\n",
    "end\n",
    "\n",
    "function RDst(CDI, CDA, CBI, CBA, CC, CD, CDst, β)\n",
    "    return -kTrap * CDst * CC \n",
    "end\n",
    "\n",
    "function RDstGam(px, t, CDI, CDA, CBI, CBA, CC, CD, CDst, β)\n",
    "    return gamFunc(px, t) * CD * β\n",
    "end"
   ]
  },
  {
   "cell_type": "code",
   "execution_count": 47,
   "id": "ee532514-ee2b-4322-8cdb-ba381106df79",
   "metadata": {},
   "outputs": [
    {
     "data": {
      "text/plain": [
       "GenericCellField():\n",
       " num_cells: 2500\n",
       " DomainStyle: PhysicalDomain()\n",
       " Triangulation: BodyFittedTriangulation()\n",
       " Triangulation id: 12726194806930849216"
      ]
     },
     "execution_count": 47,
     "metadata": {},
     "output_type": "execute_result"
    }
   ],
   "source": [
    "px = get_physical_coordinate(Ω)\n",
    "# pxSub = px.cell\n",
    "# gamFunc(px[1], px[2], 1)"
   ]
  },
  {
   "cell_type": "code",
   "execution_count": 102,
   "id": "ee0046a4-231d-4b37-b6b4-6f03d6c675ea",
   "metadata": {},
   "outputs": [
    {
     "data": {
      "text/plain": [
       "MultiFieldFEFunction():\n",
       " num_cells: 2500\n",
       " DomainStyle: ReferenceDomain()\n",
       " Triangulation: BodyFittedTriangulation()\n",
       " Triangulation id: 5668163397569763281"
      ]
     },
     "execution_count": 102,
     "metadata": {},
     "output_type": "execute_result"
    }
   ],
   "source": [
    "### Reaction-diffusion equation with Neumann boundary - multi field\n",
    "\n",
    "## define domain size and discretization\n",
    "domain = (0.0, L, 0.0, L)\n",
    "partition = (n, n)\n",
    "\n",
    "model = CartesianDiscreteModel(domain, partition)\n",
    "\n",
    "## Domains\n",
    "degree = 2*order\n",
    "Ω = Triangulation(model)\n",
    "dΩ = Measure(Ω,degree)\n",
    "px = get_physical_coordinate(Ω)\n",
    "\n",
    "## FE paces\n",
    "reffe = ReferenceFE(lagrangian, Float64, order)\n",
    "\n",
    "VDI = TestFESpace(model, reffe, conformity = :H1)\n",
    "VDA = TestFESpace(model, reffe, conformity = :H1)\n",
    "VBI = TestFESpace(model, reffe, conformity = :H1)\n",
    "VBA = TestFESpace(model, reffe, conformity = :H1)\n",
    "VC = TestFESpace(model, reffe, conformity = :H1)\n",
    "VD = TestFESpace(model, reffe, conformity = :H1)\n",
    "VDst = TestFESpace(model, reffe, conformity = :H1)\n",
    "\n",
    "UDI = TransientTrialFESpace(VDI)\n",
    "UDA = TransientTrialFESpace(VDA)\n",
    "UBI = TransientTrialFESpace(VBI)\n",
    "UBA = TransientTrialFESpace(VBA)\n",
    "UC= TransientTrialFESpace(VC)\n",
    "UD = TransientTrialFESpace(VD)\n",
    "UDst = TransientTrialFESpace(VDst)\n",
    "\n",
    "Y = MultiFieldFESpace([VDI, VDA, VBI, VBA, VC, VD, VDst])\n",
    "X = TransientMultiFieldFESpace([UDI, UDA, UBI, UBA, UC, UD, UDst])\n",
    "    \n",
    "## weak form\n",
    "residual(t, (uDI, uDA, uBI, uBA, uC, uD, uDst), (vDI, vDA, vBI, vBA, vC, vD, vDst)) = ∫( \n",
    "    ( ∂t(uDI) * vDI + ∂t(uDA) * vDA + ∂t(uBI) * vBI + ∂t(uBA) * vBA + ∂t(uC) * vC + ∂t(uD) * vD + ∂t(uDst) * vDst ) + # time derivatives \n",
    "    ( DT * (∇(uDA)⋅∇(vDA)) + DT * (∇(uDI)⋅∇(vDI)) + DC * (∇(uC)⋅∇(vC)) + DD * (∇(uD)⋅∇(vD)) + DD * (∇(uDst)⋅∇(vDst)) ) # diffusion terms\n",
    "    # ( RDI(uDI, uDA, uBI, uBA, uC, uD, uDst) * vDI + RDA(uDI, uDA, uBI, uBA, uC, uD, uDst) * vDA +    # reaction terms\n",
    "    #   RBI(uDI, uDA, uBI, uBA, uC, uD, uDst) * vBI + RBA(uDI, uDA, uBI, uBA, uC, uD, uDst) * vBA +    # reaction terms\n",
    "    #   RC(uDI, uDA, uBI, uBA, uC, uD, uDst) * vC +                                                    # reaction terms\n",
    "    #   RD(uDI, uDA, uBI, uBA, uC, uD, uDst) * vD + RDst(uDI, uDA, uBI, uBA, uC, uD, uDst, β) * vDst ) # reaction terms\n",
    "    )dΩ\n",
    "\n",
    "op = TransientFEOperator(residual, X, Y)\n",
    "\n",
    "## Initial conditions\n",
    "cDIInit(x)  = CDI0\n",
    "cDAInit(x)  = CDA0\n",
    "cBIInit(x)  = CBI0\n",
    "cBAInit(x)  = CBA0\n",
    "cCInit(x)   = CC0\n",
    "cDInit(x)   = CD0\n",
    "cDstInit(x) = CDst0\n",
    "\n",
    "u0 = interpolate_everywhere([cDIInit, cDAInit, cBIInit, cBAInit, cCInit, cDInit, cDstInit], X(0.0))\n"
   ]
  },
  {
   "cell_type": "code",
   "execution_count": 110,
   "id": "b77e4ada-b8fa-4d54-b859-b0093588f33d",
   "metadata": {},
   "outputs": [
    {
     "data": {
      "text/plain": [
       "MultiFieldFEFunction():\n",
       " num_cells: 2500\n",
       " DomainStyle: ReferenceDomain()\n",
       " Triangulation: BodyFittedTriangulation()\n",
       " Triangulation id: 8290138047985508356"
      ]
     },
     "execution_count": 110,
     "metadata": {},
     "output_type": "execute_result"
    }
   ],
   "source": [
    "### Reaction-diffusion equation with Neumann boundary - multi field reduced\n",
    "\n",
    "function RDI(CDI, CDA, CBI, CBA)\n",
    "    return -kAct * CDI * 1 + kInact * CDA - kIBind * CDI * (CSat^2 / 4 - (CBA + CBI - CSat / 2) * (CBA + CBI - CSat / 2)) + kIUnbind * CBI\n",
    "end\n",
    "\n",
    "function RDA(CDI, CDA, CBI, CBA)\n",
    "    return kAct * CDI * 1 - kInact * CDA - kABind * CDA * (CSat^2 / 4 - (CBA + CBI - CSat / 2) * (CBA + CBI - CSat / 2)) + kAUnbind * CBA\n",
    "end\n",
    "\n",
    "function RBI(CDI, CDA, CBI, CBA)\n",
    "    return -kAct * CBI * 1 + kInact * CBA + kIBind * CDI * (CSat^2 / 4 - (CBA + CBI - CSat / 2) * (CBA + CBI - CSat / 2)) - kIUnbind * CBI\n",
    "end\n",
    "\n",
    "function RBA(CDI, CDA, CBI, CBA)\n",
    "    return kAct * CBI * 1 - kInact * CBA + kABind * CDA * (CSat^2 / 4 - (CBA + CBI - CSat / 2) * (CBA + CBI - CSat / 2)) - kAUnbind * CBA\n",
    "end\n",
    "\n",
    "\n",
    "## define domain size and discretization\n",
    "domain = (0.0, L, 0.0, L)\n",
    "partition = (n, n)\n",
    "\n",
    "model = CartesianDiscreteModel(domain, partition)\n",
    "\n",
    "## Domains\n",
    "degree = 2*order\n",
    "Ω = Triangulation(model)\n",
    "dΩ = Measure(Ω,degree)\n",
    "px = get_physical_coordinate(Ω)\n",
    "\n",
    "## FE paces\n",
    "reffe = ReferenceFE(lagrangian, Float64, order)\n",
    "\n",
    "VDI = TestFESpace(model, reffe, conformity = :H1)\n",
    "VDA = TestFESpace(model, reffe, conformity = :H1)\n",
    "VBI = TestFESpace(model, reffe, conformity = :H1)\n",
    "VBA = TestFESpace(model, reffe, conformity = :H1)\n",
    "VC = TestFESpace(model, reffe, conformity = :H1)\n",
    "VD = TestFESpace(model, reffe, conformity = :H1)\n",
    "VDst = TestFESpace(model, reffe, conformity = :H1)\n",
    "\n",
    "UDI = TransientTrialFESpace(VDI)\n",
    "UDA = TransientTrialFESpace(VDA)\n",
    "UBI = TransientTrialFESpace(VBI)\n",
    "UBA = TransientTrialFESpace(VBA)\n",
    "UC= TransientTrialFESpace(VC)\n",
    "UD = TransientTrialFESpace(VD)\n",
    "UDst = TransientTrialFESpace(VDst)\n",
    "\n",
    "Y = MultiFieldFESpace([VDI, VDA, VBI, VBA, VC, VD, VDst])\n",
    "X = TransientMultiFieldFESpace([UDI, UDA, UBI, UBA, UC, UD, UDst])\n",
    "    \n",
    "## weak form\n",
    "residual(t, (uDI, uDA, uBI, uBA), (vDI, vDA, vBI, vBA)) = ∫( \n",
    "    ( ∂t(uDI) * vDI + ∂t(uDA) * vDA + ∂t(uBI) * vBI + ∂t(uBA) * vBA ) + # time derivatives \n",
    "    ( DT * (∇(uDA)⋅∇(vDA)) + DT * (∇(uDI)⋅∇(vDI)) ) - # diffusion terms\n",
    "    ( RDI(uDI, uDA, uBI, uBA) * vDI + RDA(uDI, uDA, uBI, uBA) * vDA +    # reaction terms\n",
    "      RBI(uDI, uDA, uBI, uBA) * vBI + RBA(uDI, uDA, uBI, uBA) * vBA )    # reaction terms\n",
    "    )dΩ\n",
    "\n",
    "op = TransientFEOperator(residual, X, Y)\n",
    "\n",
    "## Initial conditions\n",
    "cDIInit(x)  = CDI0\n",
    "cDAInit(x)  = CDA0\n",
    "cBIInit(x)  = CBI0\n",
    "cBAInit(x)  = CBA0\n",
    "cCInit(x)   = CC0\n",
    "cDInit(x)   = CD0\n",
    "cDstInit(x) = CDst0\n",
    "\n",
    "u0 = interpolate_everywhere([cDIInit, cDAInit, cBIInit, cBAInit], X(0.0))"
   ]
  },
  {
   "cell_type": "code",
   "execution_count": null,
   "id": "e8d51032-45d7-4c71-9049-fcb7977332b5",
   "metadata": {},
   "outputs": [],
   "source": [
    "dt = 0.1\n",
    "tMax = 1.0\n",
    "\n",
    "## Solver\n",
    "solver = NLSolver(method = :newton)\n",
    "θ = 0.5\n",
    "ode_solver = ThetaMethod(solver, dt, θ)\n",
    "uht = solve(ode_solver, op, u0, 0.0, tMax)\n",
    "\n",
    "uhList = []\n",
    "coarseGridList = []\n",
    "@time for (uh, t) in uht    \n",
    "    push!(uhList, deepcopy(uh))\n",
    "    #@show t \n",
    "end\n",
    "    "
   ]
  },
  {
   "cell_type": "code",
   "execution_count": 104,
   "id": "aed2fb14-d3fd-41bd-8b65-3299af8016d2",
   "metadata": {},
   "outputs": [
    {
     "data": {
      "image/png": "[encoded data removed]"
     },
     "execution_count": 104,
     "metadata": {},
     "output_type": "execute_result"
    }
   ],
   "source": [
    "nCoarse = 50\n",
    "coarseGrid = CreateGrid(domain, nCoarse)\n",
    "\n",
    "Makie.heatmap(uhList[end].single_fe_functions[1].(coarseGrid))\n",
    "#Makie.ylims!(0, 0.6)\n",
    "current_figure()"
   ]
  },
  {
   "cell_type": "code",
   "execution_count": 93,
   "id": "01c08ff3-7ce1-4ab9-9e77-bc2df756713a",
   "metadata": {},
   "outputs": [
    {
     "ename": "LoadError",
     "evalue": "BoundsError: attempt to access 7-element Vector{Gridap.FESpaces.SingleFieldFEFunction{Gridap.CellData.GenericCellField{ReferenceDomain}}} at index [8]",
     "output_type": "error",
     "traceback": [
      "BoundsError: attempt to access 7-element Vector{Gridap.FESpaces.SingleFieldFEFunction{Gridap.CellData.GenericCellField{ReferenceDomain}}} at index [8]",
      "",
      "Stacktrace:",
      " [1] getindex(A::Vector{Gridap.FESpaces.SingleFieldFEFunction{Gridap.CellData.GenericCellField{ReferenceDomain}}}, i1::Int64)",
      "   @ Base .\\essentials.jl:13",
      " [2] (::var\"#23#24\")(t::Int64)",
      "   @ Main .\\none:0",
      " [3] iterate",
      "   @ .\\generator.jl:47 [inlined]",
      " [4] collect(itr::Base.Generator{UnitRange{Int64}, var\"#23#24\"})",
      "   @ Base .\\array.jl:782",
      " [5] top-level scope",
      "   @ In[93]:1"
     ]
    }
   ],
   "source": [
    "Makie.lines([uhList[t].single_fe_functions[8].(coarseGrid)[25,25] for t in 1:length(uhList)])"
   ]
  },
  {
   "cell_type": "code",
   "execution_count": null,
   "id": "4d6af1df-2e9f-46c1-90e8-fa32e1a8c5ef",
   "metadata": {},
   "outputs": [],
   "source": []
  }
 ],
 "metadata": {
  "kernelspec": {
   "display_name": "Julia 1.9.1",
   "language": "julia",
   "name": "julia-1.9"
  },
  "language_info": {
   "file_extension": ".jl",
   "mimetype": "application/julia",
   "name": "julia",
   "version": "1.9.1"
  }
 },
 "nbformat": 4,
 "nbformat_minor": 5
}
