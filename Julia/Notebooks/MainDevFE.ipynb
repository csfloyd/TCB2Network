{
 "cells": [
  {
   "cell_type": "code",
   "execution_count": 1,
   "id": "3fe45e60",
   "metadata": {},
   "outputs": [],
   "source": [
    "using Revise\n",
    "using GLMakie\n",
    "using JLD2\n",
    "using Gridap\n"
   ]
  },
  {
   "cell_type": "code",
   "execution_count": 225,
   "id": "da32d9f8-bc25-4641-99aa-8b93b4126b26",
   "metadata": {},
   "outputs": [
    {
     "data": {
      "text/plain": [
       "UnstructuredGridTopology()"
      ]
     },
     "execution_count": 225,
     "metadata": {},
     "output_type": "execute_result"
    }
   ],
   "source": [
    "# gridTopology = Gridap.Geometry.GridTopology(grid)\n",
    "# faceLabeling = Gridap.Geometry.FaceLabeling(gridTopology)\n",
    "# Gridap.Geometry.get_tag_entities(faceLabeling)"
   ]
  },
  {
   "cell_type": "code",
   "execution_count": 2,
   "id": "e07a0d46-2e1e-465d-81d2-4377374739c5",
   "metadata": {},
   "outputs": [
    {
     "data": {
      "text/plain": [
       "CreateGrid1D (generic function with 1 method)"
      ]
     },
     "execution_count": 2,
     "metadata": {},
     "output_type": "execute_result"
    }
   ],
   "source": [
    "function CoarsenSolution(uhPre, nCoarse, domain, elType)\n",
    "    partition = (nCoarse,nCoarse)\n",
    "    TCoarse = CartesianDiscreteModel(domain,partition)\n",
    "    reffeCoarse = ReferenceFE(lagrangian, elType, 2)\n",
    "    VCoarse = FESpace(TCoarse, reffeCoarse)\n",
    "    iuh = Gridap.CellData.Interpolable(uhPre)\n",
    "    return interpolate_everywhere(iuh, VCoarse)\n",
    "end\n",
    "\n",
    "function CreateGrid(domain, nEvals)\n",
    "    xDomain = LinRange(domain[1], domain[2], nEvals+1)\n",
    "    yDomain = LinRange(domain[3], domain[4], nEvals+1)\n",
    "    pts = [Gridap.Point(x,y) for x in xDomain, y in yDomain]\n",
    "    return pts\n",
    "end\n",
    "\n",
    "function CreateGrid1D(domain, nEvals)\n",
    "    xDomain = LinRange(domain[1], domain[2], nEvals+1)\n",
    "    pts = [Gridap.Point(x) for x in xDomain]\n",
    "    return pts\n",
    "end"
   ]
  },
  {
   "cell_type": "code",
   "execution_count": 3,
   "id": "89462376-c36a-479a-8c7a-650042b004f1",
   "metadata": {},
   "outputs": [
    {
     "data": {
      "text/plain": [
       "SingleFieldFEFunction():\n",
       " num_cells: 2500\n",
       " DomainStyle: ReferenceDomain()\n",
       " Triangulation: BodyFittedTriangulation()\n",
       " Triangulation id: 14630434780569065064"
      ]
     },
     "execution_count": 3,
     "metadata": {},
     "output_type": "execute_result"
    }
   ],
   "source": [
    "## Poisson equation with Dirichlet boundary\n",
    "L = 1.0\n",
    "domain = (0.0, L, 0.0, L)\n",
    "n = 50\n",
    "partition = (n, n)\n",
    "model = CartesianDiscreteModel(domain,partition)\n",
    "\n",
    "order = 1\n",
    "reffe = ReferenceFE(lagrangian,Float64,order)\n",
    "V0 = TestFESpace(model,reffe;conformity=:H1, dirichlet_tags = \"boundary\")\n",
    "\n",
    "g(x) = 2.0\n",
    "Ug = TrialFESpace(V0, g)\n",
    "\n",
    "degree = 2\n",
    "Ω = Triangulation(model)\n",
    "dΩ = Measure(Ω,degree)\n",
    "\n",
    "Γ = BoundaryTriangulation(model)\n",
    "dΓ = Measure(Γ,degree)\n",
    "\n",
    "f(x) = 10.0 * (x[1]^2 + x[2]^2)\n",
    "h(x) = 3.0\n",
    "a(u,v) = ∫( ∇(v)⋅∇(u) )*dΩ\n",
    "b(v) = ∫( v*f )*dΩ #+ ∫( v*h )*dΓ\n",
    "\n",
    "op = AffineFEOperator(a,b,Ug,V0)\n",
    "ls = LUSolver()\n",
    "solver = LinearFESolver(ls)\n",
    "\n",
    "uh = solve(solver,op)\n",
    "\n",
    "#writevtk(Ω,\"results\",cellfields=[\"uh\"=>uh])"
   ]
  },
  {
   "cell_type": "code",
   "execution_count": 4,
   "id": "43ce0367-874b-46a0-ac8a-75ec6f35adab",
   "metadata": {},
   "outputs": [],
   "source": [
    "## Reaction-diffusion equation with Neumann boundary - vectors\n",
    "\n",
    "function Hadamard(v, t, nComps)\n",
    "    ret = zeros((nComps, nComps))\n",
    "    for j = 1:nComps, i = 1:nComps\n",
    "        ret[i,j] = v[i] * t[i,j]\n",
    "    end \n",
    "    return TensorValue(ret)\n",
    "end\n",
    "\n",
    "L = 1.0\n",
    "domain = (0.0, L, 0.0, L)\n",
    "n = 50\n",
    "partition = (n, n)\n",
    "model = CartesianDiscreteModel(domain,partition)\n",
    "\n",
    "elType = VectorValue{2,Float64}\n",
    "\n",
    "order = 1\n",
    "reffe = ReferenceFE(lagrangian,elType,order)\n",
    "V = TestFESpace(model,reffe;\n",
    "  conformity=:H1)\n",
    "U = TransientTrialFESpace(V)\n",
    "\n",
    "const DVec = VectorValue(5.0, 3.0)\n",
    "\n",
    "degree = 2*order\n",
    "Ω = Triangulation(model)\n",
    "dΩ = Measure(Ω,degree)\n",
    "\n",
    "#residual(t,u,v) = ∫( ∂t(u)⋅v + (∇(u) ⊙ ∇(v))  )dΩ\n",
    "residual(t,u,v) = ∫( ∂t(u)⋅v + inner(( ∇(u)) , ∇(v)) )dΩ\n",
    "#residual(t,u,v) = ∫( ∂t(u)⋅v + (∇(u[1])⋅∇(v[1])) + (∇(u[2])⋅∇(v[2])) )dΩ\n",
    "op = TransientFEOperator(residual,U,V)\n",
    "\n",
    "linear_solver = LUSolver()\n",
    "\n",
    "Δt = 0.05\n",
    "θ = 0.5\n",
    "ode_solver = ThetaMethod(linear_solver,Δt,θ)\n",
    "\n",
    "\n",
    "c1Init(x) = x[1] + x[2] + 5\n",
    "c2Init(x) = x[1] + x[2] + 5\n",
    "cInit(x) = VectorValue(c1Init(x), c2Init(x))\n",
    "u0 = interpolate_everywhere(cInit,U(0.0))\n",
    "\n",
    "t0 = 0.0\n",
    "T = 10.0\n",
    "uht = solve(ode_solver,op,u0,t0,T)\n",
    "\n",
    "coarseGrid = CreateGrid(domain, 10)\n",
    "\n",
    "coarseGridList = []\n",
    "for (uh, t) in uht\n",
    "    uhCoarse = CoarsenSolution(uh, 10, domain, elType)\n",
    "    push!(coarseGridList, uhCoarse.(coarseGrid))\n",
    "end\n",
    "    \n",
    "#writevtk(Ω,\"results\",cellfields=[\"uh\"=>uh])"
   ]
  },
  {
   "cell_type": "code",
   "execution_count": 10,
   "id": "2f7cb10e-1d04-4203-b67d-17c15975f709",
   "metadata": {},
   "outputs": [
    {
     "name": "stdout",
     "output_type": "stream",
     "text": [
      "  1.120675 seconds (15.05 M allocations: 1.515 GiB, 17.11% gc time, 4.07% compilation time: 65% of which was recompilation)\n"
     ]
    }
   ],
   "source": [
    "### Reaction-diffusion equation with Neumann boundary - multi field\n",
    "\n",
    "## parameterization \n",
    "DVec = VectorValue(0.01, 0.01)\n",
    "L = 1.0\n",
    "n = 50\n",
    "nCoarse = 50\n",
    "order = 1\n",
    "Δt = 0.05\n",
    "T = 10.0\n",
    "kOn = 1e-1\n",
    "kOff = 1e-1\n",
    "\n",
    "\n",
    "## define domain size and discretization\n",
    "domain = (0.0, L)\n",
    "partition = (n)\n",
    "model = CartesianDiscreteModel(domain, partition)\n",
    "\n",
    "\n",
    "## Domains\n",
    "degree = 2*order\n",
    "Ω = Triangulation(model)\n",
    "dΩ = Measure(Ω,degree)\n",
    "\n",
    "## FE paces\n",
    "reffe = ReferenceFE(lagrangian, Float64, order)\n",
    "\n",
    "V1 = TestFESpace(model, reffe, conformity = :H1)\n",
    "V2 = TestFESpace(model, reffe, conformity = :H1)\n",
    "\n",
    "U1 = TransientTrialFESpace(V1)\n",
    "U2 = TransientTrialFESpace(V2)\n",
    "\n",
    "Y = MultiFieldFESpace([V1, V2])\n",
    "X = TransientMultiFieldFESpace([U1, U2])\n",
    "\n",
    "R1(c1, c2) = kOff * c2 - kOn * c1\n",
    "R2(c1, c2) = - R1(c1, c2)\n",
    "\n",
    "## weak form\n",
    "residual(t, (u1, u2), (v1, v2)) = ∫( \n",
    "    ∂t(u1)⋅v1 + ∂t(u2)⋅v2 + \n",
    "    (DVec[1] * (∇(u1)⋅∇(v1)) + DVec[2] * (∇(u2)⋅∇(v2))) -\n",
    "    (R1(u1, u2) * v1 + R2(u1, u2) * v2)\n",
    "    )dΩ\n",
    "op = TransientFEOperator(residual, X, Y)\n",
    "\n",
    "\n",
    "## Initial conditions\n",
    "c1Init(x) = exp(-15 * (x[1] - 0.5)^2 )\n",
    "c2Init(x) = 0.1\n",
    "u0 = interpolate_everywhere([c1Init, c2Init], X(0.0))\n",
    "\n",
    "## Solver\n",
    "#linear_solver = NLSolver(method = :newton)\n",
    "linear_solver = LUSolver()\n",
    "θ = 0.5\n",
    "ode_solver = ThetaMethod(linear_solver,Δt,θ)\n",
    "uht = solve(ode_solver, op, u0, 0.0, T)\n",
    "\n",
    "uhList = []\n",
    "coarseGridList = []\n",
    "@time for (uh, t) in uht    \n",
    "    push!(uhList, deepcopy(uh))\n",
    "end\n",
    "    \n"
   ]
  },
  {
   "cell_type": "code",
   "execution_count": 21,
   "id": "39a248aa-6537-46e8-a1d9-6f83a767f1ed",
   "metadata": {},
   "outputs": [
    {
     "data": {
      "image/png": "[encoded data removed]"
     },
     "execution_count": 21,
     "metadata": {},
     "output_type": "execute_result"
    }
   ],
   "source": [
    "nCoarse = 50\n",
    "coarseGrid = CreateGrid1D(domain, nCoarse)\n",
    "\n",
    "Makie.lines(uhList[end].single_fe_functions[1].(coarseGrid))\n",
    "Makie.ylims!(0, 0.6)\n",
    "current_figure()"
   ]
  },
  {
   "cell_type": "code",
   "execution_count": 9,
   "id": "6588cfa3-9420-4f35-85f7-6b63efda04d1",
   "metadata": {},
   "outputs": [
    {
     "name": "stdout",
     "output_type": "stream",
     "text": [
      "  4.481729 seconds (15.21 M allocations: 3.659 GiB, 7.36% gc time, 1.04% compilation time: 67% of which was recompilation)\n"
     ]
    }
   ],
   "source": [
    "### Reaction-diffusion equation with Neumann boundary - multi field\n",
    "\n",
    "## parameterization \n",
    "DVec = VectorValue(0.01, 0.01)\n",
    "L = 1.0\n",
    "n = 50\n",
    "nCoarse = 50\n",
    "order = 1\n",
    "Δt = 0.05\n",
    "T = 10.0\n",
    "kOn = 1e-1\n",
    "kOff = 1e-1\n",
    "\n",
    "\n",
    "## define domain size and discretization\n",
    "domain = (0.0, L, 0.0, L)\n",
    "partition = (n, n)\n",
    "model = CartesianDiscreteModel(domain, partition)\n",
    "\n",
    "\n",
    "## Domains\n",
    "degree = 2*order\n",
    "Ω = Triangulation(model)\n",
    "dΩ = Measure(Ω,degree)\n",
    "\n",
    "## FE paces\n",
    "reffe = ReferenceFE(lagrangian, Float64, order)\n",
    "\n",
    "V1 = TestFESpace(model, reffe, conformity = :H1)\n",
    "V2 = TestFESpace(model, reffe, conformity = :H1)\n",
    "\n",
    "U1 = TransientTrialFESpace(V1)\n",
    "U2 = TransientTrialFESpace(V2)\n",
    "\n",
    "Y = MultiFieldFESpace([V1, V2])\n",
    "X = TransientMultiFieldFESpace([U1, U2])\n",
    "\n",
    "R1(c1, c2) = kOff * c2 - kOn * c1\n",
    "R2(c1, c2) = - R1(c1, c2)\n",
    "\n",
    "## weak form\n",
    "residual(t, (u1, u2), (v1, v2)) = ∫( \n",
    "    ∂t(u1)⋅v1 + ∂t(u2)⋅v2 + \n",
    "    (DVec[1] * (∇(u1)⋅∇(v1)) + DVec[2] * (∇(u2)⋅∇(v2))) -\n",
    "    (R1(u1, u2) * v1 + R2(u1, u2) * v2)\n",
    "    )dΩ\n",
    "op = TransientFEOperator(residual, X, Y)\n",
    "\n",
    "\n",
    "## Initial conditions\n",
    "c1Init(x) = exp(-15 * ( (x[1] - 0.5)^2 + (x[2] - 0.5)^2) )\n",
    "c2Init(x) = 0.1\n",
    "u0 = interpolate_everywhere([c1Init, c2Init], X(0.0))\n",
    "\n",
    "## Solver\n",
    "#linear_solver = NLSolver(method = :newton)\n",
    "linear_solver = LUSolver()\n",
    "θ = 0.5\n",
    "ode_solver = ThetaMethod(linear_solver,Δt,θ)\n",
    "uht = solve(ode_solver, op, u0, 0.0, T)\n",
    "\n",
    "uhList = []\n",
    "coarseGridList = []\n",
    "@time for (uh, t) in uht    \n",
    "    push!(uhList, deepcopy(uh))\n",
    "end\n",
    "    \n",
    "#writevtk(Ω,\"results\",cellfields=[\"uh\"=>uh])"
   ]
  },
  {
   "cell_type": "code",
   "execution_count": 116,
   "id": "c53d6cee-3c74-4548-a352-839f907e0f19",
   "metadata": {},
   "outputs": [
    {
     "data": {
      "image/png": "[encoded data removed]"
     },
     "execution_count": 116,
     "metadata": {},
     "output_type": "execute_result"
    }
   ],
   "source": [
    "nCoarse = 50\n",
    "coarseGrid = CreateGrid(domain, nCoarse)\n",
    "\n",
    "Makie.heatmap(uhList[30].single_fe_functions[2].(coarseGrid), colorrange = (0.1, 0.2))"
   ]
  },
  {
   "cell_type": "code",
   "execution_count": 115,
   "id": "12382afa-2fb0-4ba0-a733-666171f06f7c",
   "metadata": {},
   "outputs": [
    {
     "data": {
      "text/plain": [
       "51×51 Matrix{Float64}:\n",
       " 0.103063  0.103142  0.103379  0.103769  …  0.103379  0.103142  0.103063\n",
       " 0.103142  0.103222  0.103459  0.10385      0.103459  0.103222  0.103142\n",
       " 0.103379  0.103459  0.103698  0.104092     0.103698  0.103459  0.103379\n",
       " 0.103769  0.10385   0.104092  0.104492     0.104092  0.10385   0.103769\n",
       " 0.104306  0.104389  0.104636  0.105043     0.104636  0.104389  0.104306\n",
       " 0.104983  0.105068  0.10532   0.105737  …  0.10532   0.105068  0.104983\n",
       " 0.105789  0.105876  0.106135  0.106562     0.106135  0.105876  0.105789\n",
       " 0.106711  0.1068    0.107067  0.107507     0.107067  0.1068    0.106711\n",
       " 0.107735  0.107827  0.108103  0.108557     0.108103  0.107827  0.107735\n",
       " 0.108845  0.10894   0.109225  0.109695     0.109225  0.10894   0.108845\n",
       " 0.110024  0.110123  0.110417  0.110903  …  0.110417  0.110123  0.110024\n",
       " 0.111253  0.111355  0.11166   0.112163     0.11166   0.111355  0.111253\n",
       " 0.112514  0.112619  0.112935  0.113455     0.112935  0.112619  0.112514\n",
       " ⋮                                       ⋱                      ⋮\n",
       " 0.111253  0.111355  0.11166   0.112163     0.11166   0.111355  0.111253\n",
       " 0.110024  0.110123  0.110417  0.110903  …  0.110417  0.110123  0.110024\n",
       " 0.108845  0.10894   0.109225  0.109695     0.109225  0.10894   0.108845\n",
       " 0.107735  0.107827  0.108103  0.108557     0.108103  0.107827  0.107735\n",
       " 0.106711  0.1068    0.107067  0.107507     0.107067  0.1068    0.106711\n",
       " 0.105789  0.105876  0.106135  0.106562     0.106135  0.105876  0.105789\n",
       " 0.104983  0.105068  0.10532   0.105737  …  0.10532   0.105068  0.104983\n",
       " 0.104306  0.104389  0.104636  0.105043     0.104636  0.104389  0.104306\n",
       " 0.103769  0.10385   0.104092  0.104492     0.104092  0.10385   0.103769\n",
       " 0.103379  0.103459  0.103698  0.104092     0.103698  0.103459  0.103379\n",
       " 0.103142  0.103222  0.103459  0.10385      0.103459  0.103222  0.103142\n",
       " 0.103063  0.103142  0.103379  0.103769  …  0.103379  0.103142  0.103063"
      ]
     },
     "execution_count": 115,
     "metadata": {},
     "output_type": "execute_result"
    }
   ],
   "source": [
    "uhList[70].single_fe_functions[2].(coarseGrid)"
   ]
  },
  {
   "cell_type": "code",
   "execution_count": 8,
   "id": "21fee55f-d43c-4ed5-92a4-0cc80c4e73ad",
   "metadata": {},
   "outputs": [
    {
     "data": {
      "image/png": "[encoded data removed]"
     },
     "execution_count": 8,
     "metadata": {},
     "output_type": "execute_result"
    }
   ],
   "source": [
    "function SplitMeshOfVecs(mesh, nComps)\n",
    "    (nX, nY) = size(mesh)\n",
    "    gridList = []\n",
    "    for i in 1:nComps\n",
    "        push!(gridList, zeros((nX, nY)))\n",
    "    end \n",
    "    for y in 1:nY, x in 1:nX\n",
    "        for i in 1:nComps\n",
    "            gridList[i][x,y] = mesh[x,y][i]\n",
    "        end \n",
    "    end \n",
    "    return gridList\n",
    "end\n",
    "        \n",
    "gridList = SplitMeshOfVecs(coarseGridList[1], 2)\n",
    "cr = (5, 7)\n",
    "Makie.heatmap(gridList[1], colorrange = cr)"
   ]
  },
  {
   "cell_type": "code",
   "execution_count": 390,
   "id": "b241c5d6-4d41-48e3-8fa1-1c0deb754e63",
   "metadata": {},
   "outputs": [
    {
     "data": {
      "text/plain": [
       "TensorValue{2, 2, Float64, 4}(9.0, 25.0, 16.5, 45.0)"
      ]
     },
     "execution_count": 390,
     "metadata": {},
     "output_type": "execute_result"
    }
   ],
   "source": [
    "v1 = VectorValue(3.0, 5.0)\n",
    "v2 = VectorValue(1.0, 2.0)\n",
    "t1 = TensorValue(3.0, 5.0, 5.5, 9.0)\n",
    "t2 = TensorValue(1.0, 2.0, 2.3, 0.0)\n",
    "\n",
    "\n",
    "Hadamard(v1, t1, 2)\n",
    "\n",
    "#Hadamard!(v1, t1, 2)"
   ]
  },
  {
   "cell_type": "code",
   "execution_count": 362,
   "id": "46629021-a065-4041-89df-5d8913e2ed83",
   "metadata": {},
   "outputs": [
    {
     "data": {
      "text/plain": [
       "51×51 Matrix{Float64}:\n",
       " 2.0  2.0      2.0      2.0      2.0      …  2.0      2.0      2.0      2.0\n",
       " 2.0  2.00112  2.00223  2.00334  2.00445     2.0165   2.01252  2.00712  2.0\n",
       " 2.0  2.00223  2.00445  2.00667  2.00888     2.03058  2.02276  2.01267  2.0\n",
       " 2.0  2.00334  2.00667  2.00999  2.01329     2.04245  2.03101  2.01693  2.0\n",
       " 2.0  2.00445  2.00888  2.01329  2.01767     2.05296  2.03828  2.02068  2.0\n",
       " 2.0  2.00556  2.01109  2.01658  2.02203  …  2.06219  2.0446   2.02392  2.0\n",
       " 2.0  2.00667  2.01328  2.01984  2.02635     2.07032  2.05014  2.02674  2.0\n",
       " 2.0  2.00777  2.01547  2.0231   2.03065     2.07774  2.05518  2.02931  2.0\n",
       " 2.0  2.00888  2.01765  2.02634  2.03492     2.0845   2.05977  2.03164  2.0\n",
       " 2.0  2.00997  2.01983  2.02956  2.03917     2.09078  2.06403  2.0338   2.0\n",
       " 2.0  2.01107  2.02199  2.03276  2.04338  …  2.09661  2.06798  2.0358   2.0\n",
       " 2.0  2.01216  2.02414  2.03594  2.04756     2.10198  2.07162  2.03765  2.0\n",
       " 2.0  2.01325  2.02628  2.03909  2.0517      2.10705  2.07505  2.03939  2.0\n",
       " ⋮                                        ⋱                             ⋮\n",
       " 2.0  2.03052  2.05895  2.08535  2.11002     2.1514   2.10643  2.05601  2.0\n",
       " 2.0  2.02988  2.05758  2.08317  2.10698  …  2.14702  2.10357  2.05461  2.0\n",
       " 2.0  2.02898  2.0557   2.08023  2.10295     2.14145  2.09991  2.05281  2.0\n",
       " 2.0  2.02783  2.05332  2.07654  2.09794     2.13471  2.09543  2.05059  2.0\n",
       " 2.0  2.02641  2.05041  2.07208  2.09193     2.12673  2.09012  2.04795  2.0\n",
       " 2.0  2.02465  2.04683  2.06664  2.08466     2.11711  2.08368  2.04472  2.0\n",
       " 2.0  2.02252  2.04253  2.06016  2.07606  …  2.10578  2.07605  2.04088  2.0\n",
       " 2.0  2.01983  2.03716  2.05214  2.06552     2.09181  2.06656  2.03606  2.0\n",
       " 2.0  2.0165   2.03058  2.04245  2.05296     2.0749   2.05491  2.03008  2.0\n",
       " 2.0  2.01252  2.02276  2.03101  2.03828     2.05491  2.04106  2.02296  2.0\n",
       " 2.0  2.00712  2.01267  2.01693  2.02068     2.03008  2.02296  2.01312  2.0\n",
       " 2.0  2.0      2.0      2.0      2.0      …  2.0      2.0      2.0      2.0"
      ]
     },
     "execution_count": 362,
     "metadata": {},
     "output_type": "execute_result"
    }
   ],
   "source": [
    "pts = CreateGrid(domain, 50)\n",
    "uhCoarse = CoarsenSolution(uh, 20, domain)\n",
    "res = uhCoarse.(pts)"
   ]
  },
  {
   "cell_type": "code",
   "execution_count": 282,
   "id": "39a89785-396d-4262-b0fe-137191f28652",
   "metadata": {},
   "outputs": [
    {
     "data": {
      "image/png": "[encoded data removed]"
     },
     "execution_count": 282,
     "metadata": {},
     "output_type": "execute_result"
    }
   ],
   "source": [
    "Makie.heatmap(res)"
   ]
  },
  {
   "cell_type": "code",
   "execution_count": 5,
   "id": "e2b5597f-94d8-4020-bb26-d2ed9100a1fe",
   "metadata": {},
   "outputs": [
    {
     "data": {
      "text/plain": [
       "MultiFieldFEFunction():\n",
       " num_cells: 10000\n",
       " DomainStyle: ReferenceDomain()\n",
       " Triangulation: BodyFittedTriangulation()\n",
       " Triangulation id: 18021475377302839758"
      ]
     },
     "execution_count": 5,
     "metadata": {},
     "output_type": "execute_result"
    }
   ],
   "source": [
    "using Gridap\n",
    "domain = (0,1,0,1)\n",
    "partition = (100,100)\n",
    "model = CartesianDiscreteModel(domain,partition)\n",
    "\n",
    "order = 1\n",
    "\n",
    "V = FESpace(model, ReferenceFE(raviart_thomas,Float64,order),\n",
    "      conformity=:HDiv, dirichlet_tags=[5,6])\n",
    "\n",
    "Q = FESpace(model, ReferenceFE(lagrangian,Float64,order),\n",
    "      conformity=:L2)\n",
    "\n",
    "uD = VectorValue(0.0,0.0)\n",
    "U = TrialFESpace(V,uD)\n",
    "P = TrialFESpace(Q)\n",
    "\n",
    "Y = MultiFieldFESpace([V, Q])\n",
    "X = MultiFieldFESpace([U, P])\n",
    "\n",
    "trian = Triangulation(model)\n",
    "degree = 2\n",
    "dΩ = Measure(trian,degree)\n",
    "\n",
    "neumanntags = [8,]\n",
    "btrian = BoundaryTriangulation(model,tags=neumanntags)\n",
    "dΓ = Measure(btrian,degree)\n",
    "\n",
    "const kinv1 = TensorValue(1.0,0.0,0.0,1.0)\n",
    "const kinv2 = TensorValue(100.0,90.0,90.0,100.0)\n",
    "function σ(x,u)\n",
    "   if ((abs(x[1]-0.5) <= 0.1) && (abs(x[2]-0.5) <= 0.1))\n",
    "      return kinv2⋅u\n",
    "   else\n",
    "      return kinv1⋅u\n",
    "   end\n",
    "end\n",
    "\n",
    "px = get_physical_coordinate(trian)\n",
    "a((u,p), (v,q)) = ∫(v⋅(σ∘(px,u)) - (∇⋅v)*p + q*(∇⋅u))dΩ\n",
    "\n",
    "nb = get_normal_vector(btrian)\n",
    "h = -1.0\n",
    "\n",
    "b((v,q)) = ∫((v⋅nb)*h)dΓ\n",
    "\n",
    "op = AffineFEOperator(a,b,X,Y)\n",
    "xh = solve(op)\n",
    "uh, ph = xh"
   ]
  },
  {
   "cell_type": "code",
   "execution_count": 6,
   "id": "9e8444f2-be66-45e1-bc28-dd5e82ec8d80",
   "metadata": {},
   "outputs": [
    {
     "ename": "LoadError",
     "evalue": "UndefVarError: `u` not defined",
     "output_type": "error",
     "traceback": [
      "UndefVarError: `u` not defined",
      "",
      "Stacktrace:",
      " [1] top-level scope",
      "   @ In[6]:1"
     ]
    }
   ],
   "source": [
    "σ∘(px,u)"
   ]
  },
  {
   "cell_type": "code",
   "execution_count": null,
   "id": "dee042e9-72f9-4600-a37e-55c1d2a7c83f",
   "metadata": {},
   "outputs": [],
   "source": []
  }
 ],
 "metadata": {
  "kernelspec": {
   "display_name": "Julia 1.9.1",
   "language": "julia",
   "name": "julia-1.9"
  },
  "language_info": {
   "file_extension": ".jl",
   "mimetype": "application/julia",
   "name": "julia",
   "version": "1.9.1"
  }
 },
 "nbformat": 4,
 "nbformat_minor": 5
}
